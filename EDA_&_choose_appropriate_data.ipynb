{
  "cells": [
    {
      "cell_type": "code",
      "execution_count": 1,
      "metadata": {
        "id": "0H6cWzJvSEgd"
      },
      "outputs": [],
      "source": [
        "import numpy as np\n",
        "import pandas as pd"
      ]
    },
    {
      "cell_type": "code",
      "execution_count": 2,
      "metadata": {
        "id": "MvtkBxTUSNmD"
      },
      "outputs": [],
      "source": [
        "file_path = r\"/content/all_data.csv\""
      ]
    },
    {
      "cell_type": "code",
      "execution_count": 3,
      "metadata": {
        "colab": {
          "base_uri": "https://localhost:8080/"
        },
        "id": "pUbqAxy3SRtC",
        "outputId": "59b27241-ac2a-433b-d999-44b26779fb9c"
      },
      "outputs": [
        {
          "name": "stderr",
          "output_type": "stream",
          "text": [
            "<ipython-input-3-2861b702887f>:1: DtypeWarning: Columns (8,9,31,32,36) have mixed types. Specify dtype option on import or set low_memory=False.\n",
            "  data = pd.read_csv(file_path)\n"
          ]
        }
      ],
      "source": [
        "data = pd.read_csv(file_path)"
      ]
    },
    {
      "cell_type": "code",
      "execution_count": 4,
      "metadata": {
        "colab": {
          "base_uri": "https://localhost:8080/",
          "height": 359
        },
        "id": "FvUm-4M6STzX",
        "outputId": "ec50f12d-7043-42ce-bce2-6789abbd7fc8"
      },
      "outputs": [
        {
          "data": {
            "application/vnd.google.colaboratory.intrinsic+json": {
              "type": "dataframe",
              "variable_name": "data"
            },
            "text/html": [
              "\n",
              "  <div id=\"df-5f8bba9f-2242-414e-8a30-cbfd19ba4770\" class=\"colab-df-container\">\n",
              "    <div>\n",
              "<style scoped>\n",
              "    .dataframe tbody tr th:only-of-type {\n",
              "        vertical-align: middle;\n",
              "    }\n",
              "\n",
              "    .dataframe tbody tr th {\n",
              "        vertical-align: top;\n",
              "    }\n",
              "\n",
              "    .dataframe thead th {\n",
              "        text-align: right;\n",
              "    }\n",
              "</style>\n",
              "<table border=\"1\" class=\"dataframe\">\n",
              "  <thead>\n",
              "    <tr style=\"text-align: right;\">\n",
              "      <th></th>\n",
              "      <th>Unnamed: 0</th>\n",
              "      <th>subject</th>\n",
              "      <th>block</th>\n",
              "      <th>phase</th>\n",
              "      <th>condition</th>\n",
              "      <th>trial</th>\n",
              "      <th>stim.num.left</th>\n",
              "      <th>stim.num.right</th>\n",
              "      <th>stim.string.left</th>\n",
              "      <th>stim.string.right</th>\n",
              "      <th>...</th>\n",
              "      <th>study.partner.left.num</th>\n",
              "      <th>study.partner.right.num</th>\n",
              "      <th>study.partner.left.string</th>\n",
              "      <th>study.partner.right.string</th>\n",
              "      <th>resp.num</th>\n",
              "      <th>study.partner.resp.num</th>\n",
              "      <th>study.partner.resp.string</th>\n",
              "      <th>recall.type</th>\n",
              "      <th>recall.list</th>\n",
              "      <th>condition.block</th>\n",
              "    </tr>\n",
              "  </thead>\n",
              "  <tbody>\n",
              "    <tr>\n",
              "      <th>0</th>\n",
              "      <td>37.0</td>\n",
              "      <td>2</td>\n",
              "      <td>1</td>\n",
              "      <td>test</td>\n",
              "      <td>Associative recognition</td>\n",
              "      <td>1</td>\n",
              "      <td>141</td>\n",
              "      <td>722</td>\n",
              "      <td>CLAIM</td>\n",
              "      <td>SCATTERED</td>\n",
              "      <td>...</td>\n",
              "      <td>722.0</td>\n",
              "      <td>141.0</td>\n",
              "      <td>SCATTERED</td>\n",
              "      <td>CLAIM</td>\n",
              "      <td>NaN</td>\n",
              "      <td>NaN</td>\n",
              "      <td>NaN</td>\n",
              "      <td>NaN</td>\n",
              "      <td>NaN</td>\n",
              "      <td>Associative recognition 1</td>\n",
              "    </tr>\n",
              "    <tr>\n",
              "      <th>1</th>\n",
              "      <td>38.0</td>\n",
              "      <td>2</td>\n",
              "      <td>1</td>\n",
              "      <td>test</td>\n",
              "      <td>Associative recognition</td>\n",
              "      <td>2</td>\n",
              "      <td>809</td>\n",
              "      <td>748</td>\n",
              "      <td>SHARPLY</td>\n",
              "      <td>STRESS</td>\n",
              "      <td>...</td>\n",
              "      <td>747.0</td>\n",
              "      <td>620.0</td>\n",
              "      <td>SHARED</td>\n",
              "      <td>POURED</td>\n",
              "      <td>NaN</td>\n",
              "      <td>NaN</td>\n",
              "      <td>NaN</td>\n",
              "      <td>NaN</td>\n",
              "      <td>NaN</td>\n",
              "      <td>Associative recognition 1</td>\n",
              "    </tr>\n",
              "    <tr>\n",
              "      <th>2</th>\n",
              "      <td>39.0</td>\n",
              "      <td>2</td>\n",
              "      <td>1</td>\n",
              "      <td>test</td>\n",
              "      <td>Associative recognition</td>\n",
              "      <td>3</td>\n",
              "      <td>894</td>\n",
              "      <td>352</td>\n",
              "      <td>FORMER</td>\n",
              "      <td>VOLUME</td>\n",
              "      <td>...</td>\n",
              "      <td>352.0</td>\n",
              "      <td>894.0</td>\n",
              "      <td>FORMER</td>\n",
              "      <td>VOLUME</td>\n",
              "      <td>NaN</td>\n",
              "      <td>NaN</td>\n",
              "      <td>NaN</td>\n",
              "      <td>NaN</td>\n",
              "      <td>NaN</td>\n",
              "      <td>Associative recognition 1</td>\n",
              "    </tr>\n",
              "    <tr>\n",
              "      <th>3</th>\n",
              "      <td>40.0</td>\n",
              "      <td>2</td>\n",
              "      <td>1</td>\n",
              "      <td>test</td>\n",
              "      <td>Associative recognition</td>\n",
              "      <td>4</td>\n",
              "      <td>683</td>\n",
              "      <td>189</td>\n",
              "      <td>CONTROLS</td>\n",
              "      <td>REMAINING</td>\n",
              "      <td>...</td>\n",
              "      <td>919.0</td>\n",
              "      <td>737.0</td>\n",
              "      <td>WRAPPED</td>\n",
              "      <td>SENTENCES</td>\n",
              "      <td>NaN</td>\n",
              "      <td>NaN</td>\n",
              "      <td>NaN</td>\n",
              "      <td>NaN</td>\n",
              "      <td>NaN</td>\n",
              "      <td>Associative recognition 1</td>\n",
              "    </tr>\n",
              "    <tr>\n",
              "      <th>4</th>\n",
              "      <td>41.0</td>\n",
              "      <td>2</td>\n",
              "      <td>1</td>\n",
              "      <td>test</td>\n",
              "      <td>Associative recognition</td>\n",
              "      <td>5</td>\n",
              "      <td>857</td>\n",
              "      <td>30</td>\n",
              "      <td>TRACK</td>\n",
              "      <td>APPARENTLY</td>\n",
              "      <td>...</td>\n",
              "      <td>665.0</td>\n",
              "      <td>122.0</td>\n",
              "      <td>READER</td>\n",
              "      <td>CASH</td>\n",
              "      <td>NaN</td>\n",
              "      <td>NaN</td>\n",
              "      <td>NaN</td>\n",
              "      <td>NaN</td>\n",
              "      <td>NaN</td>\n",
              "      <td>Associative recognition 1</td>\n",
              "    </tr>\n",
              "  </tbody>\n",
              "</table>\n",
              "<p>5 rows × 39 columns</p>\n",
              "</div>\n",
              "    <div class=\"colab-df-buttons\">\n",
              "\n",
              "  <div class=\"colab-df-container\">\n",
              "    <button class=\"colab-df-convert\" onclick=\"convertToInteractive('df-5f8bba9f-2242-414e-8a30-cbfd19ba4770')\"\n",
              "            title=\"Convert this dataframe to an interactive table.\"\n",
              "            style=\"display:none;\">\n",
              "\n",
              "  <svg xmlns=\"http://www.w3.org/2000/svg\" height=\"24px\" viewBox=\"0 -960 960 960\">\n",
              "    <path d=\"M120-120v-720h720v720H120Zm60-500h600v-160H180v160Zm220 220h160v-160H400v160Zm0 220h160v-160H400v160ZM180-400h160v-160H180v160Zm440 0h160v-160H620v160ZM180-180h160v-160H180v160Zm440 0h160v-160H620v160Z\"/>\n",
              "  </svg>\n",
              "    </button>\n",
              "\n",
              "  <style>\n",
              "    .colab-df-container {\n",
              "      display:flex;\n",
              "      gap: 12px;\n",
              "    }\n",
              "\n",
              "    .colab-df-convert {\n",
              "      background-color: #E8F0FE;\n",
              "      border: none;\n",
              "      border-radius: 50%;\n",
              "      cursor: pointer;\n",
              "      display: none;\n",
              "      fill: #1967D2;\n",
              "      height: 32px;\n",
              "      padding: 0 0 0 0;\n",
              "      width: 32px;\n",
              "    }\n",
              "\n",
              "    .colab-df-convert:hover {\n",
              "      background-color: #E2EBFA;\n",
              "      box-shadow: 0px 1px 2px rgba(60, 64, 67, 0.3), 0px 1px 3px 1px rgba(60, 64, 67, 0.15);\n",
              "      fill: #174EA6;\n",
              "    }\n",
              "\n",
              "    .colab-df-buttons div {\n",
              "      margin-bottom: 4px;\n",
              "    }\n",
              "\n",
              "    [theme=dark] .colab-df-convert {\n",
              "      background-color: #3B4455;\n",
              "      fill: #D2E3FC;\n",
              "    }\n",
              "\n",
              "    [theme=dark] .colab-df-convert:hover {\n",
              "      background-color: #434B5C;\n",
              "      box-shadow: 0px 1px 3px 1px rgba(0, 0, 0, 0.15);\n",
              "      filter: drop-shadow(0px 1px 2px rgba(0, 0, 0, 0.3));\n",
              "      fill: #FFFFFF;\n",
              "    }\n",
              "  </style>\n",
              "\n",
              "    <script>\n",
              "      const buttonEl =\n",
              "        document.querySelector('#df-5f8bba9f-2242-414e-8a30-cbfd19ba4770 button.colab-df-convert');\n",
              "      buttonEl.style.display =\n",
              "        google.colab.kernel.accessAllowed ? 'block' : 'none';\n",
              "\n",
              "      async function convertToInteractive(key) {\n",
              "        const element = document.querySelector('#df-5f8bba9f-2242-414e-8a30-cbfd19ba4770');\n",
              "        const dataTable =\n",
              "          await google.colab.kernel.invokeFunction('convertToInteractive',\n",
              "                                                    [key], {});\n",
              "        if (!dataTable) return;\n",
              "\n",
              "        const docLinkHtml = 'Like what you see? Visit the ' +\n",
              "          '<a target=\"_blank\" href=https://colab.research.google.com/notebooks/data_table.ipynb>data table notebook</a>'\n",
              "          + ' to learn more about interactive tables.';\n",
              "        element.innerHTML = '';\n",
              "        dataTable['output_type'] = 'display_data';\n",
              "        await google.colab.output.renderOutput(dataTable, element);\n",
              "        const docLink = document.createElement('div');\n",
              "        docLink.innerHTML = docLinkHtml;\n",
              "        element.appendChild(docLink);\n",
              "      }\n",
              "    </script>\n",
              "  </div>\n",
              "\n",
              "\n",
              "<div id=\"df-cd364a35-e627-46d5-b007-d91159d9f064\">\n",
              "  <button class=\"colab-df-quickchart\" onclick=\"quickchart('df-cd364a35-e627-46d5-b007-d91159d9f064')\"\n",
              "            title=\"Suggest charts\"\n",
              "            style=\"display:none;\">\n",
              "\n",
              "<svg xmlns=\"http://www.w3.org/2000/svg\" height=\"24px\"viewBox=\"0 0 24 24\"\n",
              "     width=\"24px\">\n",
              "    <g>\n",
              "        <path d=\"M19 3H5c-1.1 0-2 .9-2 2v14c0 1.1.9 2 2 2h14c1.1 0 2-.9 2-2V5c0-1.1-.9-2-2-2zM9 17H7v-7h2v7zm4 0h-2V7h2v10zm4 0h-2v-4h2v4z\"/>\n",
              "    </g>\n",
              "</svg>\n",
              "  </button>\n",
              "\n",
              "<style>\n",
              "  .colab-df-quickchart {\n",
              "      --bg-color: #E8F0FE;\n",
              "      --fill-color: #1967D2;\n",
              "      --hover-bg-color: #E2EBFA;\n",
              "      --hover-fill-color: #174EA6;\n",
              "      --disabled-fill-color: #AAA;\n",
              "      --disabled-bg-color: #DDD;\n",
              "  }\n",
              "\n",
              "  [theme=dark] .colab-df-quickchart {\n",
              "      --bg-color: #3B4455;\n",
              "      --fill-color: #D2E3FC;\n",
              "      --hover-bg-color: #434B5C;\n",
              "      --hover-fill-color: #FFFFFF;\n",
              "      --disabled-bg-color: #3B4455;\n",
              "      --disabled-fill-color: #666;\n",
              "  }\n",
              "\n",
              "  .colab-df-quickchart {\n",
              "    background-color: var(--bg-color);\n",
              "    border: none;\n",
              "    border-radius: 50%;\n",
              "    cursor: pointer;\n",
              "    display: none;\n",
              "    fill: var(--fill-color);\n",
              "    height: 32px;\n",
              "    padding: 0;\n",
              "    width: 32px;\n",
              "  }\n",
              "\n",
              "  .colab-df-quickchart:hover {\n",
              "    background-color: var(--hover-bg-color);\n",
              "    box-shadow: 0 1px 2px rgba(60, 64, 67, 0.3), 0 1px 3px 1px rgba(60, 64, 67, 0.15);\n",
              "    fill: var(--button-hover-fill-color);\n",
              "  }\n",
              "\n",
              "  .colab-df-quickchart-complete:disabled,\n",
              "  .colab-df-quickchart-complete:disabled:hover {\n",
              "    background-color: var(--disabled-bg-color);\n",
              "    fill: var(--disabled-fill-color);\n",
              "    box-shadow: none;\n",
              "  }\n",
              "\n",
              "  .colab-df-spinner {\n",
              "    border: 2px solid var(--fill-color);\n",
              "    border-color: transparent;\n",
              "    border-bottom-color: var(--fill-color);\n",
              "    animation:\n",
              "      spin 1s steps(1) infinite;\n",
              "  }\n",
              "\n",
              "  @keyframes spin {\n",
              "    0% {\n",
              "      border-color: transparent;\n",
              "      border-bottom-color: var(--fill-color);\n",
              "      border-left-color: var(--fill-color);\n",
              "    }\n",
              "    20% {\n",
              "      border-color: transparent;\n",
              "      border-left-color: var(--fill-color);\n",
              "      border-top-color: var(--fill-color);\n",
              "    }\n",
              "    30% {\n",
              "      border-color: transparent;\n",
              "      border-left-color: var(--fill-color);\n",
              "      border-top-color: var(--fill-color);\n",
              "      border-right-color: var(--fill-color);\n",
              "    }\n",
              "    40% {\n",
              "      border-color: transparent;\n",
              "      border-right-color: var(--fill-color);\n",
              "      border-top-color: var(--fill-color);\n",
              "    }\n",
              "    60% {\n",
              "      border-color: transparent;\n",
              "      border-right-color: var(--fill-color);\n",
              "    }\n",
              "    80% {\n",
              "      border-color: transparent;\n",
              "      border-right-color: var(--fill-color);\n",
              "      border-bottom-color: var(--fill-color);\n",
              "    }\n",
              "    90% {\n",
              "      border-color: transparent;\n",
              "      border-bottom-color: var(--fill-color);\n",
              "    }\n",
              "  }\n",
              "</style>\n",
              "\n",
              "  <script>\n",
              "    async function quickchart(key) {\n",
              "      const quickchartButtonEl =\n",
              "        document.querySelector('#' + key + ' button');\n",
              "      quickchartButtonEl.disabled = true;  // To prevent multiple clicks.\n",
              "      quickchartButtonEl.classList.add('colab-df-spinner');\n",
              "      try {\n",
              "        const charts = await google.colab.kernel.invokeFunction(\n",
              "            'suggestCharts', [key], {});\n",
              "      } catch (error) {\n",
              "        console.error('Error during call to suggestCharts:', error);\n",
              "      }\n",
              "      quickchartButtonEl.classList.remove('colab-df-spinner');\n",
              "      quickchartButtonEl.classList.add('colab-df-quickchart-complete');\n",
              "    }\n",
              "    (() => {\n",
              "      let quickchartButtonEl =\n",
              "        document.querySelector('#df-cd364a35-e627-46d5-b007-d91159d9f064 button');\n",
              "      quickchartButtonEl.style.display =\n",
              "        google.colab.kernel.accessAllowed ? 'block' : 'none';\n",
              "    })();\n",
              "  </script>\n",
              "</div>\n",
              "\n",
              "    </div>\n",
              "  </div>\n"
            ],
            "text/plain": [
              "   Unnamed: 0  subject  block phase                condition  trial  \\\n",
              "0        37.0        2      1  test  Associative recognition      1   \n",
              "1        38.0        2      1  test  Associative recognition      2   \n",
              "2        39.0        2      1  test  Associative recognition      3   \n",
              "3        40.0        2      1  test  Associative recognition      4   \n",
              "4        41.0        2      1  test  Associative recognition      5   \n",
              "\n",
              "   stim.num.left  stim.num.right stim.string.left stim.string.right  ...  \\\n",
              "0            141             722            CLAIM         SCATTERED  ...   \n",
              "1            809             748          SHARPLY            STRESS  ...   \n",
              "2            894             352           FORMER            VOLUME  ...   \n",
              "3            683             189         CONTROLS         REMAINING  ...   \n",
              "4            857              30            TRACK        APPARENTLY  ...   \n",
              "\n",
              "   study.partner.left.num  study.partner.right.num  study.partner.left.string  \\\n",
              "0                   722.0                    141.0                  SCATTERED   \n",
              "1                   747.0                    620.0                     SHARED   \n",
              "2                   352.0                    894.0                     FORMER   \n",
              "3                   919.0                    737.0                    WRAPPED   \n",
              "4                   665.0                    122.0                     READER   \n",
              "\n",
              "   study.partner.right.string  resp.num  study.partner.resp.num  \\\n",
              "0                       CLAIM       NaN                     NaN   \n",
              "1                      POURED       NaN                     NaN   \n",
              "2                      VOLUME       NaN                     NaN   \n",
              "3                   SENTENCES       NaN                     NaN   \n",
              "4                        CASH       NaN                     NaN   \n",
              "\n",
              "   study.partner.resp.string  recall.type  recall.list  \\\n",
              "0                        NaN          NaN          NaN   \n",
              "1                        NaN          NaN          NaN   \n",
              "2                        NaN          NaN          NaN   \n",
              "3                        NaN          NaN          NaN   \n",
              "4                        NaN          NaN          NaN   \n",
              "\n",
              "             condition.block  \n",
              "0  Associative recognition 1  \n",
              "1  Associative recognition 1  \n",
              "2  Associative recognition 1  \n",
              "3  Associative recognition 1  \n",
              "4  Associative recognition 1  \n",
              "\n",
              "[5 rows x 39 columns]"
            ]
          },
          "execution_count": 4,
          "metadata": {},
          "output_type": "execute_result"
        }
      ],
      "source": [
        "data.head()"
      ]
    },
    {
      "cell_type": "code",
      "execution_count": 5,
      "metadata": {
        "colab": {
          "base_uri": "https://localhost:8080/"
        },
        "id": "y5MQEoVESVe-",
        "outputId": "ca875851-9ab5-4c36-d7dc-44a43bec685d"
      },
      "outputs": [
        {
          "name": "stdout",
          "output_type": "stream",
          "text": [
            "<class 'pandas.core.frame.DataFrame'>\n",
            "RangeIndex: 168107 entries, 0 to 168106\n",
            "Data columns (total 39 columns):\n",
            " #   Column                      Non-Null Count   Dtype  \n",
            "---  ------                      --------------   -----  \n",
            " 0   Unnamed: 0                  168107 non-null  float64\n",
            " 1   subject                     168107 non-null  int64  \n",
            " 2   block                       168107 non-null  int64  \n",
            " 3   phase                       168107 non-null  object \n",
            " 4   condition                   168107 non-null  object \n",
            " 5   trial                       168107 non-null  int64  \n",
            " 6   stim.num.left               168107 non-null  int64  \n",
            " 7   stim.num.right              168107 non-null  int64  \n",
            " 8   stim.string.left            107886 non-null  object \n",
            " 9   stim.string.right           26842 non-null   object \n",
            " 10  stim.distractor             168107 non-null  int64  \n",
            " 11  studied                     168107 non-null  int64  \n",
            " 12  freq.left                   168107 non-null  int64  \n",
            " 13  cv.left                     168107 non-null  int64  \n",
            " 14  old.left                    168107 non-null  float64\n",
            " 15  freq.right                  168107 non-null  int64  \n",
            " 16  cv.right                    168107 non-null  int64  \n",
            " 17  old.right                   168107 non-null  float64\n",
            " 18  rt                          117950 non-null  float64\n",
            " 19  distractor.resp             168107 non-null  int64  \n",
            " 20  resp                        168107 non-null  int64  \n",
            " 21  resp.string                 70801 non-null   object \n",
            " 22  resp.type                   168107 non-null  object \n",
            " 23  resp.type.rescore           85629 non-null   object \n",
            " 24  study.pos.left              168107 non-null  int64  \n",
            " 25  study.pos.right             168107 non-null  int64  \n",
            " 26  kf.left                     168107 non-null  int64  \n",
            " 27  kf.right                    168107 non-null  int64  \n",
            " 28  resp.string.corr            74227 non-null   object \n",
            " 29  study.partner.left.num      67322 non-null   float64\n",
            " 30  study.partner.right.num     26842 non-null   float64\n",
            " 31  study.partner.left.string   67322 non-null   object \n",
            " 32  study.partner.right.string  26842 non-null   object \n",
            " 33  resp.num                    63721 non-null   float64\n",
            " 34  study.partner.resp.num      60115 non-null   float64\n",
            " 35  study.partner.resp.string   60115 non-null   object \n",
            " 36  recall.type                 20339 non-null   object \n",
            " 37  recall.list                 20339 non-null   float64\n",
            " 38  condition.block             168107 non-null  object \n",
            "dtypes: float64(9), int64(17), object(13)\n",
            "memory usage: 50.0+ MB\n"
          ]
        }
      ],
      "source": [
        "data.info()"
      ]
    },
    {
      "cell_type": "code",
      "execution_count": 6,
      "metadata": {
        "colab": {
          "base_uri": "https://localhost:8080/",
          "height": 349
        },
        "id": "znyc3eGqSa9a",
        "outputId": "6122d70f-62cb-4dde-fc82-c2be71ba672b"
      },
      "outputs": [
        {
          "data": {
            "application/vnd.google.colaboratory.intrinsic+json": {
              "type": "dataframe"
            },
            "text/html": [
              "\n",
              "  <div id=\"df-348021b7-e26a-4cb1-88c7-a18dfb43ea56\" class=\"colab-df-container\">\n",
              "    <div>\n",
              "<style scoped>\n",
              "    .dataframe tbody tr th:only-of-type {\n",
              "        vertical-align: middle;\n",
              "    }\n",
              "\n",
              "    .dataframe tbody tr th {\n",
              "        vertical-align: top;\n",
              "    }\n",
              "\n",
              "    .dataframe thead th {\n",
              "        text-align: right;\n",
              "    }\n",
              "</style>\n",
              "<table border=\"1\" class=\"dataframe\">\n",
              "  <thead>\n",
              "    <tr style=\"text-align: right;\">\n",
              "      <th></th>\n",
              "      <th>Unnamed: 0</th>\n",
              "      <th>subject</th>\n",
              "      <th>block</th>\n",
              "      <th>trial</th>\n",
              "      <th>stim.num.left</th>\n",
              "      <th>stim.num.right</th>\n",
              "      <th>stim.distractor</th>\n",
              "      <th>studied</th>\n",
              "      <th>freq.left</th>\n",
              "      <th>cv.left</th>\n",
              "      <th>...</th>\n",
              "      <th>resp</th>\n",
              "      <th>study.pos.left</th>\n",
              "      <th>study.pos.right</th>\n",
              "      <th>kf.left</th>\n",
              "      <th>kf.right</th>\n",
              "      <th>study.partner.left.num</th>\n",
              "      <th>study.partner.right.num</th>\n",
              "      <th>resp.num</th>\n",
              "      <th>study.partner.resp.num</th>\n",
              "      <th>recall.list</th>\n",
              "    </tr>\n",
              "  </thead>\n",
              "  <tbody>\n",
              "    <tr>\n",
              "      <th>count</th>\n",
              "      <td>1.681070e+05</td>\n",
              "      <td>168107.000000</td>\n",
              "      <td>168107.000000</td>\n",
              "      <td>168107.000000</td>\n",
              "      <td>168107.000000</td>\n",
              "      <td>168107.000000</td>\n",
              "      <td>168107.000000</td>\n",
              "      <td>168107.000000</td>\n",
              "      <td>168107.000000</td>\n",
              "      <td>168107.000000</td>\n",
              "      <td>...</td>\n",
              "      <td>168107.000000</td>\n",
              "      <td>168107.000000</td>\n",
              "      <td>168107.000000</td>\n",
              "      <td>168107.000000</td>\n",
              "      <td>168107.000000</td>\n",
              "      <td>67322.000000</td>\n",
              "      <td>26842.000000</td>\n",
              "      <td>63721.000000</td>\n",
              "      <td>60115.000000</td>\n",
              "      <td>20339.000000</td>\n",
              "    </tr>\n",
              "    <tr>\n",
              "      <th>mean</th>\n",
              "      <td>1.692305e+05</td>\n",
              "      <td>231.327500</td>\n",
              "      <td>7.816962</td>\n",
              "      <td>14.984272</td>\n",
              "      <td>296.427852</td>\n",
              "      <td>74.139328</td>\n",
              "      <td>0.003093</td>\n",
              "      <td>0.709334</td>\n",
              "      <td>282.223090</td>\n",
              "      <td>208.956308</td>\n",
              "      <td>...</td>\n",
              "      <td>0.375796</td>\n",
              "      <td>9.107836</td>\n",
              "      <td>4.869958</td>\n",
              "      <td>30.767969</td>\n",
              "      <td>7.614442</td>\n",
              "      <td>464.093833</td>\n",
              "      <td>463.708889</td>\n",
              "      <td>460.347845</td>\n",
              "      <td>460.821658</td>\n",
              "      <td>4.933969</td>\n",
              "    </tr>\n",
              "    <tr>\n",
              "      <th>std</th>\n",
              "      <td>1.829088e+05</td>\n",
              "      <td>132.952894</td>\n",
              "      <td>4.274027</td>\n",
              "      <td>11.149121</td>\n",
              "      <td>307.258274</td>\n",
              "      <td>200.633955</td>\n",
              "      <td>0.147117</td>\n",
              "      <td>0.454071</td>\n",
              "      <td>273.578116</td>\n",
              "      <td>191.063702</td>\n",
              "      <td>...</td>\n",
              "      <td>0.484329</td>\n",
              "      <td>13.661988</td>\n",
              "      <td>11.407260</td>\n",
              "      <td>32.497632</td>\n",
              "      <td>20.803612</td>\n",
              "      <td>266.765438</td>\n",
              "      <td>265.750905</td>\n",
              "      <td>267.248810</td>\n",
              "      <td>267.419900</td>\n",
              "      <td>4.636837</td>\n",
              "    </tr>\n",
              "    <tr>\n",
              "      <th>min</th>\n",
              "      <td>3.700000e+01</td>\n",
              "      <td>1.000000</td>\n",
              "      <td>1.000000</td>\n",
              "      <td>1.000000</td>\n",
              "      <td>0.000000</td>\n",
              "      <td>0.000000</td>\n",
              "      <td>0.000000</td>\n",
              "      <td>0.000000</td>\n",
              "      <td>0.000000</td>\n",
              "      <td>0.000000</td>\n",
              "      <td>...</td>\n",
              "      <td>0.000000</td>\n",
              "      <td>0.000000</td>\n",
              "      <td>0.000000</td>\n",
              "      <td>0.000000</td>\n",
              "      <td>0.000000</td>\n",
              "      <td>1.000000</td>\n",
              "      <td>1.000000</td>\n",
              "      <td>1.000000</td>\n",
              "      <td>1.000000</td>\n",
              "      <td>0.000000</td>\n",
              "    </tr>\n",
              "    <tr>\n",
              "      <th>25%</th>\n",
              "      <td>7.895150e+04</td>\n",
              "      <td>116.000000</td>\n",
              "      <td>4.000000</td>\n",
              "      <td>7.000000</td>\n",
              "      <td>0.000000</td>\n",
              "      <td>0.000000</td>\n",
              "      <td>0.000000</td>\n",
              "      <td>0.000000</td>\n",
              "      <td>0.000000</td>\n",
              "      <td>0.000000</td>\n",
              "      <td>...</td>\n",
              "      <td>0.000000</td>\n",
              "      <td>0.000000</td>\n",
              "      <td>0.000000</td>\n",
              "      <td>0.000000</td>\n",
              "      <td>0.000000</td>\n",
              "      <td>233.000000</td>\n",
              "      <td>235.000000</td>\n",
              "      <td>229.000000</td>\n",
              "      <td>229.000000</td>\n",
              "      <td>1.000000</td>\n",
              "    </tr>\n",
              "    <tr>\n",
              "      <th>50%</th>\n",
              "      <td>1.577311e+05</td>\n",
              "      <td>231.000000</td>\n",
              "      <td>8.000000</td>\n",
              "      <td>13.000000</td>\n",
              "      <td>206.000000</td>\n",
              "      <td>0.000000</td>\n",
              "      <td>0.000000</td>\n",
              "      <td>1.000000</td>\n",
              "      <td>349.000000</td>\n",
              "      <td>292.000000</td>\n",
              "      <td>...</td>\n",
              "      <td>0.000000</td>\n",
              "      <td>1.000000</td>\n",
              "      <td>0.000000</td>\n",
              "      <td>27.000000</td>\n",
              "      <td>0.000000</td>\n",
              "      <td>465.000000</td>\n",
              "      <td>462.000000</td>\n",
              "      <td>458.000000</td>\n",
              "      <td>459.000000</td>\n",
              "      <td>4.000000</td>\n",
              "    </tr>\n",
              "    <tr>\n",
              "      <th>75%</th>\n",
              "      <td>2.367365e+05</td>\n",
              "      <td>346.000000</td>\n",
              "      <td>11.000000</td>\n",
              "      <td>19.000000</td>\n",
              "      <td>563.000000</td>\n",
              "      <td>0.000000</td>\n",
              "      <td>0.000000</td>\n",
              "      <td>1.000000</td>\n",
              "      <td>494.000000</td>\n",
              "      <td>375.000000</td>\n",
              "      <td>...</td>\n",
              "      <td>1.000000</td>\n",
              "      <td>14.000000</td>\n",
              "      <td>0.000000</td>\n",
              "      <td>50.000000</td>\n",
              "      <td>0.000000</td>\n",
              "      <td>696.000000</td>\n",
              "      <td>694.000000</td>\n",
              "      <td>693.000000</td>\n",
              "      <td>693.000000</td>\n",
              "      <td>9.000000</td>\n",
              "    </tr>\n",
              "    <tr>\n",
              "      <th>max</th>\n",
              "      <td>3.129481e+06</td>\n",
              "      <td>462.000000</td>\n",
              "      <td>15.000000</td>\n",
              "      <td>125.000000</td>\n",
              "      <td>924.000000</td>\n",
              "      <td>924.000000</td>\n",
              "      <td>9.000000</td>\n",
              "      <td>1.000000</td>\n",
              "      <td>1358.000000</td>\n",
              "      <td>500.000000</td>\n",
              "      <td>...</td>\n",
              "      <td>1.000000</td>\n",
              "      <td>50.000000</td>\n",
              "      <td>40.000000</td>\n",
              "      <td>197.000000</td>\n",
              "      <td>197.000000</td>\n",
              "      <td>924.000000</td>\n",
              "      <td>924.000000</td>\n",
              "      <td>924.000000</td>\n",
              "      <td>924.000000</td>\n",
              "      <td>15.000000</td>\n",
              "    </tr>\n",
              "  </tbody>\n",
              "</table>\n",
              "<p>8 rows × 26 columns</p>\n",
              "</div>\n",
              "    <div class=\"colab-df-buttons\">\n",
              "\n",
              "  <div class=\"colab-df-container\">\n",
              "    <button class=\"colab-df-convert\" onclick=\"convertToInteractive('df-348021b7-e26a-4cb1-88c7-a18dfb43ea56')\"\n",
              "            title=\"Convert this dataframe to an interactive table.\"\n",
              "            style=\"display:none;\">\n",
              "\n",
              "  <svg xmlns=\"http://www.w3.org/2000/svg\" height=\"24px\" viewBox=\"0 -960 960 960\">\n",
              "    <path d=\"M120-120v-720h720v720H120Zm60-500h600v-160H180v160Zm220 220h160v-160H400v160Zm0 220h160v-160H400v160ZM180-400h160v-160H180v160Zm440 0h160v-160H620v160ZM180-180h160v-160H180v160Zm440 0h160v-160H620v160Z\"/>\n",
              "  </svg>\n",
              "    </button>\n",
              "\n",
              "  <style>\n",
              "    .colab-df-container {\n",
              "      display:flex;\n",
              "      gap: 12px;\n",
              "    }\n",
              "\n",
              "    .colab-df-convert {\n",
              "      background-color: #E8F0FE;\n",
              "      border: none;\n",
              "      border-radius: 50%;\n",
              "      cursor: pointer;\n",
              "      display: none;\n",
              "      fill: #1967D2;\n",
              "      height: 32px;\n",
              "      padding: 0 0 0 0;\n",
              "      width: 32px;\n",
              "    }\n",
              "\n",
              "    .colab-df-convert:hover {\n",
              "      background-color: #E2EBFA;\n",
              "      box-shadow: 0px 1px 2px rgba(60, 64, 67, 0.3), 0px 1px 3px 1px rgba(60, 64, 67, 0.15);\n",
              "      fill: #174EA6;\n",
              "    }\n",
              "\n",
              "    .colab-df-buttons div {\n",
              "      margin-bottom: 4px;\n",
              "    }\n",
              "\n",
              "    [theme=dark] .colab-df-convert {\n",
              "      background-color: #3B4455;\n",
              "      fill: #D2E3FC;\n",
              "    }\n",
              "\n",
              "    [theme=dark] .colab-df-convert:hover {\n",
              "      background-color: #434B5C;\n",
              "      box-shadow: 0px 1px 3px 1px rgba(0, 0, 0, 0.15);\n",
              "      filter: drop-shadow(0px 1px 2px rgba(0, 0, 0, 0.3));\n",
              "      fill: #FFFFFF;\n",
              "    }\n",
              "  </style>\n",
              "\n",
              "    <script>\n",
              "      const buttonEl =\n",
              "        document.querySelector('#df-348021b7-e26a-4cb1-88c7-a18dfb43ea56 button.colab-df-convert');\n",
              "      buttonEl.style.display =\n",
              "        google.colab.kernel.accessAllowed ? 'block' : 'none';\n",
              "\n",
              "      async function convertToInteractive(key) {\n",
              "        const element = document.querySelector('#df-348021b7-e26a-4cb1-88c7-a18dfb43ea56');\n",
              "        const dataTable =\n",
              "          await google.colab.kernel.invokeFunction('convertToInteractive',\n",
              "                                                    [key], {});\n",
              "        if (!dataTable) return;\n",
              "\n",
              "        const docLinkHtml = 'Like what you see? Visit the ' +\n",
              "          '<a target=\"_blank\" href=https://colab.research.google.com/notebooks/data_table.ipynb>data table notebook</a>'\n",
              "          + ' to learn more about interactive tables.';\n",
              "        element.innerHTML = '';\n",
              "        dataTable['output_type'] = 'display_data';\n",
              "        await google.colab.output.renderOutput(dataTable, element);\n",
              "        const docLink = document.createElement('div');\n",
              "        docLink.innerHTML = docLinkHtml;\n",
              "        element.appendChild(docLink);\n",
              "      }\n",
              "    </script>\n",
              "  </div>\n",
              "\n",
              "\n",
              "<div id=\"df-54197d3f-a4a7-428f-816f-9c2c8951c0a4\">\n",
              "  <button class=\"colab-df-quickchart\" onclick=\"quickchart('df-54197d3f-a4a7-428f-816f-9c2c8951c0a4')\"\n",
              "            title=\"Suggest charts\"\n",
              "            style=\"display:none;\">\n",
              "\n",
              "<svg xmlns=\"http://www.w3.org/2000/svg\" height=\"24px\"viewBox=\"0 0 24 24\"\n",
              "     width=\"24px\">\n",
              "    <g>\n",
              "        <path d=\"M19 3H5c-1.1 0-2 .9-2 2v14c0 1.1.9 2 2 2h14c1.1 0 2-.9 2-2V5c0-1.1-.9-2-2-2zM9 17H7v-7h2v7zm4 0h-2V7h2v10zm4 0h-2v-4h2v4z\"/>\n",
              "    </g>\n",
              "</svg>\n",
              "  </button>\n",
              "\n",
              "<style>\n",
              "  .colab-df-quickchart {\n",
              "      --bg-color: #E8F0FE;\n",
              "      --fill-color: #1967D2;\n",
              "      --hover-bg-color: #E2EBFA;\n",
              "      --hover-fill-color: #174EA6;\n",
              "      --disabled-fill-color: #AAA;\n",
              "      --disabled-bg-color: #DDD;\n",
              "  }\n",
              "\n",
              "  [theme=dark] .colab-df-quickchart {\n",
              "      --bg-color: #3B4455;\n",
              "      --fill-color: #D2E3FC;\n",
              "      --hover-bg-color: #434B5C;\n",
              "      --hover-fill-color: #FFFFFF;\n",
              "      --disabled-bg-color: #3B4455;\n",
              "      --disabled-fill-color: #666;\n",
              "  }\n",
              "\n",
              "  .colab-df-quickchart {\n",
              "    background-color: var(--bg-color);\n",
              "    border: none;\n",
              "    border-radius: 50%;\n",
              "    cursor: pointer;\n",
              "    display: none;\n",
              "    fill: var(--fill-color);\n",
              "    height: 32px;\n",
              "    padding: 0;\n",
              "    width: 32px;\n",
              "  }\n",
              "\n",
              "  .colab-df-quickchart:hover {\n",
              "    background-color: var(--hover-bg-color);\n",
              "    box-shadow: 0 1px 2px rgba(60, 64, 67, 0.3), 0 1px 3px 1px rgba(60, 64, 67, 0.15);\n",
              "    fill: var(--button-hover-fill-color);\n",
              "  }\n",
              "\n",
              "  .colab-df-quickchart-complete:disabled,\n",
              "  .colab-df-quickchart-complete:disabled:hover {\n",
              "    background-color: var(--disabled-bg-color);\n",
              "    fill: var(--disabled-fill-color);\n",
              "    box-shadow: none;\n",
              "  }\n",
              "\n",
              "  .colab-df-spinner {\n",
              "    border: 2px solid var(--fill-color);\n",
              "    border-color: transparent;\n",
              "    border-bottom-color: var(--fill-color);\n",
              "    animation:\n",
              "      spin 1s steps(1) infinite;\n",
              "  }\n",
              "\n",
              "  @keyframes spin {\n",
              "    0% {\n",
              "      border-color: transparent;\n",
              "      border-bottom-color: var(--fill-color);\n",
              "      border-left-color: var(--fill-color);\n",
              "    }\n",
              "    20% {\n",
              "      border-color: transparent;\n",
              "      border-left-color: var(--fill-color);\n",
              "      border-top-color: var(--fill-color);\n",
              "    }\n",
              "    30% {\n",
              "      border-color: transparent;\n",
              "      border-left-color: var(--fill-color);\n",
              "      border-top-color: var(--fill-color);\n",
              "      border-right-color: var(--fill-color);\n",
              "    }\n",
              "    40% {\n",
              "      border-color: transparent;\n",
              "      border-right-color: var(--fill-color);\n",
              "      border-top-color: var(--fill-color);\n",
              "    }\n",
              "    60% {\n",
              "      border-color: transparent;\n",
              "      border-right-color: var(--fill-color);\n",
              "    }\n",
              "    80% {\n",
              "      border-color: transparent;\n",
              "      border-right-color: var(--fill-color);\n",
              "      border-bottom-color: var(--fill-color);\n",
              "    }\n",
              "    90% {\n",
              "      border-color: transparent;\n",
              "      border-bottom-color: var(--fill-color);\n",
              "    }\n",
              "  }\n",
              "</style>\n",
              "\n",
              "  <script>\n",
              "    async function quickchart(key) {\n",
              "      const quickchartButtonEl =\n",
              "        document.querySelector('#' + key + ' button');\n",
              "      quickchartButtonEl.disabled = true;  // To prevent multiple clicks.\n",
              "      quickchartButtonEl.classList.add('colab-df-spinner');\n",
              "      try {\n",
              "        const charts = await google.colab.kernel.invokeFunction(\n",
              "            'suggestCharts', [key], {});\n",
              "      } catch (error) {\n",
              "        console.error('Error during call to suggestCharts:', error);\n",
              "      }\n",
              "      quickchartButtonEl.classList.remove('colab-df-spinner');\n",
              "      quickchartButtonEl.classList.add('colab-df-quickchart-complete');\n",
              "    }\n",
              "    (() => {\n",
              "      let quickchartButtonEl =\n",
              "        document.querySelector('#df-54197d3f-a4a7-428f-816f-9c2c8951c0a4 button');\n",
              "      quickchartButtonEl.style.display =\n",
              "        google.colab.kernel.accessAllowed ? 'block' : 'none';\n",
              "    })();\n",
              "  </script>\n",
              "</div>\n",
              "\n",
              "    </div>\n",
              "  </div>\n"
            ],
            "text/plain": [
              "         Unnamed: 0        subject          block          trial  \\\n",
              "count  1.681070e+05  168107.000000  168107.000000  168107.000000   \n",
              "mean   1.692305e+05     231.327500       7.816962      14.984272   \n",
              "std    1.829088e+05     132.952894       4.274027      11.149121   \n",
              "min    3.700000e+01       1.000000       1.000000       1.000000   \n",
              "25%    7.895150e+04     116.000000       4.000000       7.000000   \n",
              "50%    1.577311e+05     231.000000       8.000000      13.000000   \n",
              "75%    2.367365e+05     346.000000      11.000000      19.000000   \n",
              "max    3.129481e+06     462.000000      15.000000     125.000000   \n",
              "\n",
              "       stim.num.left  stim.num.right  stim.distractor        studied  \\\n",
              "count  168107.000000   168107.000000    168107.000000  168107.000000   \n",
              "mean      296.427852       74.139328         0.003093       0.709334   \n",
              "std       307.258274      200.633955         0.147117       0.454071   \n",
              "min         0.000000        0.000000         0.000000       0.000000   \n",
              "25%         0.000000        0.000000         0.000000       0.000000   \n",
              "50%       206.000000        0.000000         0.000000       1.000000   \n",
              "75%       563.000000        0.000000         0.000000       1.000000   \n",
              "max       924.000000      924.000000         9.000000       1.000000   \n",
              "\n",
              "           freq.left        cv.left  ...           resp  study.pos.left  \\\n",
              "count  168107.000000  168107.000000  ...  168107.000000   168107.000000   \n",
              "mean      282.223090     208.956308  ...       0.375796        9.107836   \n",
              "std       273.578116     191.063702  ...       0.484329       13.661988   \n",
              "min         0.000000       0.000000  ...       0.000000        0.000000   \n",
              "25%         0.000000       0.000000  ...       0.000000        0.000000   \n",
              "50%       349.000000     292.000000  ...       0.000000        1.000000   \n",
              "75%       494.000000     375.000000  ...       1.000000       14.000000   \n",
              "max      1358.000000     500.000000  ...       1.000000       50.000000   \n",
              "\n",
              "       study.pos.right        kf.left       kf.right  study.partner.left.num  \\\n",
              "count    168107.000000  168107.000000  168107.000000            67322.000000   \n",
              "mean          4.869958      30.767969       7.614442              464.093833   \n",
              "std          11.407260      32.497632      20.803612              266.765438   \n",
              "min           0.000000       0.000000       0.000000                1.000000   \n",
              "25%           0.000000       0.000000       0.000000              233.000000   \n",
              "50%           0.000000      27.000000       0.000000              465.000000   \n",
              "75%           0.000000      50.000000       0.000000              696.000000   \n",
              "max          40.000000     197.000000     197.000000              924.000000   \n",
              "\n",
              "       study.partner.right.num      resp.num  study.partner.resp.num  \\\n",
              "count             26842.000000  63721.000000            60115.000000   \n",
              "mean                463.708889    460.347845              460.821658   \n",
              "std                 265.750905    267.248810              267.419900   \n",
              "min                   1.000000      1.000000                1.000000   \n",
              "25%                 235.000000    229.000000              229.000000   \n",
              "50%                 462.000000    458.000000              459.000000   \n",
              "75%                 694.000000    693.000000              693.000000   \n",
              "max                 924.000000    924.000000              924.000000   \n",
              "\n",
              "        recall.list  \n",
              "count  20339.000000  \n",
              "mean       4.933969  \n",
              "std        4.636837  \n",
              "min        0.000000  \n",
              "25%        1.000000  \n",
              "50%        4.000000  \n",
              "75%        9.000000  \n",
              "max       15.000000  \n",
              "\n",
              "[8 rows x 26 columns]"
            ]
          },
          "execution_count": 6,
          "metadata": {},
          "output_type": "execute_result"
        }
      ],
      "source": [
        "data.describe()"
      ]
    },
    {
      "cell_type": "code",
      "execution_count": 7,
      "metadata": {
        "colab": {
          "base_uri": "https://localhost:8080/",
          "height": 1000
        },
        "id": "kxri7sdsSg-V",
        "outputId": "c5a6788a-a5fa-465e-d8a4-eecf659a5ff0"
      },
      "outputs": [
        {
          "data": {
            "text/html": [
              "<div>\n",
              "<style scoped>\n",
              "    .dataframe tbody tr th:only-of-type {\n",
              "        vertical-align: middle;\n",
              "    }\n",
              "\n",
              "    .dataframe tbody tr th {\n",
              "        vertical-align: top;\n",
              "    }\n",
              "\n",
              "    .dataframe thead th {\n",
              "        text-align: right;\n",
              "    }\n",
              "</style>\n",
              "<table border=\"1\" class=\"dataframe\">\n",
              "  <thead>\n",
              "    <tr style=\"text-align: right;\">\n",
              "      <th></th>\n",
              "      <th>0</th>\n",
              "    </tr>\n",
              "  </thead>\n",
              "  <tbody>\n",
              "    <tr>\n",
              "      <th>Unnamed: 0</th>\n",
              "      <td>0</td>\n",
              "    </tr>\n",
              "    <tr>\n",
              "      <th>subject</th>\n",
              "      <td>0</td>\n",
              "    </tr>\n",
              "    <tr>\n",
              "      <th>block</th>\n",
              "      <td>0</td>\n",
              "    </tr>\n",
              "    <tr>\n",
              "      <th>phase</th>\n",
              "      <td>0</td>\n",
              "    </tr>\n",
              "    <tr>\n",
              "      <th>condition</th>\n",
              "      <td>0</td>\n",
              "    </tr>\n",
              "    <tr>\n",
              "      <th>trial</th>\n",
              "      <td>0</td>\n",
              "    </tr>\n",
              "    <tr>\n",
              "      <th>stim.num.left</th>\n",
              "      <td>0</td>\n",
              "    </tr>\n",
              "    <tr>\n",
              "      <th>stim.num.right</th>\n",
              "      <td>0</td>\n",
              "    </tr>\n",
              "    <tr>\n",
              "      <th>stim.string.left</th>\n",
              "      <td>60221</td>\n",
              "    </tr>\n",
              "    <tr>\n",
              "      <th>stim.string.right</th>\n",
              "      <td>141265</td>\n",
              "    </tr>\n",
              "    <tr>\n",
              "      <th>stim.distractor</th>\n",
              "      <td>0</td>\n",
              "    </tr>\n",
              "    <tr>\n",
              "      <th>studied</th>\n",
              "      <td>0</td>\n",
              "    </tr>\n",
              "    <tr>\n",
              "      <th>freq.left</th>\n",
              "      <td>0</td>\n",
              "    </tr>\n",
              "    <tr>\n",
              "      <th>cv.left</th>\n",
              "      <td>0</td>\n",
              "    </tr>\n",
              "    <tr>\n",
              "      <th>old.left</th>\n",
              "      <td>0</td>\n",
              "    </tr>\n",
              "    <tr>\n",
              "      <th>freq.right</th>\n",
              "      <td>0</td>\n",
              "    </tr>\n",
              "    <tr>\n",
              "      <th>cv.right</th>\n",
              "      <td>0</td>\n",
              "    </tr>\n",
              "    <tr>\n",
              "      <th>old.right</th>\n",
              "      <td>0</td>\n",
              "    </tr>\n",
              "    <tr>\n",
              "      <th>rt</th>\n",
              "      <td>50157</td>\n",
              "    </tr>\n",
              "    <tr>\n",
              "      <th>distractor.resp</th>\n",
              "      <td>0</td>\n",
              "    </tr>\n",
              "    <tr>\n",
              "      <th>resp</th>\n",
              "      <td>0</td>\n",
              "    </tr>\n",
              "    <tr>\n",
              "      <th>resp.string</th>\n",
              "      <td>97306</td>\n",
              "    </tr>\n",
              "    <tr>\n",
              "      <th>resp.type</th>\n",
              "      <td>0</td>\n",
              "    </tr>\n",
              "    <tr>\n",
              "      <th>resp.type.rescore</th>\n",
              "      <td>82478</td>\n",
              "    </tr>\n",
              "    <tr>\n",
              "      <th>study.pos.left</th>\n",
              "      <td>0</td>\n",
              "    </tr>\n",
              "    <tr>\n",
              "      <th>study.pos.right</th>\n",
              "      <td>0</td>\n",
              "    </tr>\n",
              "    <tr>\n",
              "      <th>kf.left</th>\n",
              "      <td>0</td>\n",
              "    </tr>\n",
              "    <tr>\n",
              "      <th>kf.right</th>\n",
              "      <td>0</td>\n",
              "    </tr>\n",
              "    <tr>\n",
              "      <th>resp.string.corr</th>\n",
              "      <td>93880</td>\n",
              "    </tr>\n",
              "    <tr>\n",
              "      <th>study.partner.left.num</th>\n",
              "      <td>100785</td>\n",
              "    </tr>\n",
              "    <tr>\n",
              "      <th>study.partner.right.num</th>\n",
              "      <td>141265</td>\n",
              "    </tr>\n",
              "    <tr>\n",
              "      <th>study.partner.left.string</th>\n",
              "      <td>100785</td>\n",
              "    </tr>\n",
              "    <tr>\n",
              "      <th>study.partner.right.string</th>\n",
              "      <td>141265</td>\n",
              "    </tr>\n",
              "    <tr>\n",
              "      <th>resp.num</th>\n",
              "      <td>104386</td>\n",
              "    </tr>\n",
              "    <tr>\n",
              "      <th>study.partner.resp.num</th>\n",
              "      <td>107992</td>\n",
              "    </tr>\n",
              "    <tr>\n",
              "      <th>study.partner.resp.string</th>\n",
              "      <td>107992</td>\n",
              "    </tr>\n",
              "    <tr>\n",
              "      <th>recall.type</th>\n",
              "      <td>147768</td>\n",
              "    </tr>\n",
              "    <tr>\n",
              "      <th>recall.list</th>\n",
              "      <td>147768</td>\n",
              "    </tr>\n",
              "    <tr>\n",
              "      <th>condition.block</th>\n",
              "      <td>0</td>\n",
              "    </tr>\n",
              "  </tbody>\n",
              "</table>\n",
              "</div><br><label><b>dtype:</b> int64</label>"
            ],
            "text/plain": [
              "Unnamed: 0                         0\n",
              "subject                            0\n",
              "block                              0\n",
              "phase                              0\n",
              "condition                          0\n",
              "trial                              0\n",
              "stim.num.left                      0\n",
              "stim.num.right                     0\n",
              "stim.string.left               60221\n",
              "stim.string.right             141265\n",
              "stim.distractor                    0\n",
              "studied                            0\n",
              "freq.left                          0\n",
              "cv.left                            0\n",
              "old.left                           0\n",
              "freq.right                         0\n",
              "cv.right                           0\n",
              "old.right                          0\n",
              "rt                             50157\n",
              "distractor.resp                    0\n",
              "resp                               0\n",
              "resp.string                    97306\n",
              "resp.type                          0\n",
              "resp.type.rescore              82478\n",
              "study.pos.left                     0\n",
              "study.pos.right                    0\n",
              "kf.left                            0\n",
              "kf.right                           0\n",
              "resp.string.corr               93880\n",
              "study.partner.left.num        100785\n",
              "study.partner.right.num       141265\n",
              "study.partner.left.string     100785\n",
              "study.partner.right.string    141265\n",
              "resp.num                      104386\n",
              "study.partner.resp.num        107992\n",
              "study.partner.resp.string     107992\n",
              "recall.type                   147768\n",
              "recall.list                   147768\n",
              "condition.block                    0\n",
              "dtype: int64"
            ]
          },
          "execution_count": 7,
          "metadata": {},
          "output_type": "execute_result"
        }
      ],
      "source": [
        "data.isnull().sum()"
      ]
    },
    {
      "cell_type": "code",
      "execution_count": 9,
      "metadata": {
        "colab": {
          "base_uri": "https://localhost:8080/"
        },
        "id": "2onfg1NKSkYq",
        "outputId": "257d4744-f426-43fa-8b77-91f8877f356d"
      },
      "outputs": [
        {
          "data": {
            "text/plain": [
              "array(['test'], dtype=object)"
            ]
          },
          "execution_count": 9,
          "metadata": {},
          "output_type": "execute_result"
        }
      ],
      "source": [
        "data['phase'].unique()"
      ]
    },
    {
      "cell_type": "code",
      "execution_count": 10,
      "metadata": {
        "colab": {
          "base_uri": "https://localhost:8080/"
        },
        "id": "w0Wfo3hPSrCs",
        "outputId": "a9b1887b-10bf-42a4-e05a-6e5129d975d4"
      },
      "outputs": [
        {
          "data": {
            "text/plain": [
              "array(['Associative recognition', 'Free recall', 'Cued recall',\n",
              "       'Lexical decision', 'Single recognition'], dtype=object)"
            ]
          },
          "execution_count": 10,
          "metadata": {},
          "output_type": "execute_result"
        }
      ],
      "source": [
        "data['condition'].unique()"
      ]
    },
    {
      "cell_type": "code",
      "execution_count": 12,
      "metadata": {
        "colab": {
          "base_uri": "https://localhost:8080/"
        },
        "id": "KzFKefQRTuhn",
        "outputId": "e12bb32f-ab6e-4890-b85e-b10222696190"
      },
      "outputs": [
        {
          "name": "stdout",
          "output_type": "stream",
          "text": [
            "phase\n",
            "test    168107\n",
            "Name: count, dtype: int64\n"
          ]
        }
      ],
      "source": [
        "print(data['phase'].value_counts())"
      ]
    },
    {
      "cell_type": "code",
      "execution_count": 13,
      "metadata": {
        "colab": {
          "base_uri": "https://localhost:8080/",
          "height": 272
        },
        "id": "ghi_PiXQT2x1",
        "outputId": "18ac82c2-377b-4277-82ea-03f69d47f62c"
      },
      "outputs": [
        {
          "data": {
            "text/html": [
              "<div>\n",
              "<style scoped>\n",
              "    .dataframe tbody tr th:only-of-type {\n",
              "        vertical-align: middle;\n",
              "    }\n",
              "\n",
              "    .dataframe tbody tr th {\n",
              "        vertical-align: top;\n",
              "    }\n",
              "\n",
              "    .dataframe thead th {\n",
              "        text-align: right;\n",
              "    }\n",
              "</style>\n",
              "<table border=\"1\" class=\"dataframe\">\n",
              "  <thead>\n",
              "    <tr style=\"text-align: right;\">\n",
              "      <th></th>\n",
              "      <th>count</th>\n",
              "    </tr>\n",
              "    <tr>\n",
              "      <th>condition</th>\n",
              "      <th></th>\n",
              "    </tr>\n",
              "  </thead>\n",
              "  <tbody>\n",
              "    <tr>\n",
              "      <th>Free recall</th>\n",
              "      <td>60221</td>\n",
              "    </tr>\n",
              "    <tr>\n",
              "      <th>Lexical decision</th>\n",
              "      <td>27121</td>\n",
              "    </tr>\n",
              "    <tr>\n",
              "      <th>Cued recall</th>\n",
              "      <td>27035</td>\n",
              "    </tr>\n",
              "    <tr>\n",
              "      <th>Single recognition</th>\n",
              "      <td>26888</td>\n",
              "    </tr>\n",
              "    <tr>\n",
              "      <th>Associative recognition</th>\n",
              "      <td>26842</td>\n",
              "    </tr>\n",
              "  </tbody>\n",
              "</table>\n",
              "</div><br><label><b>dtype:</b> int64</label>"
            ],
            "text/plain": [
              "condition\n",
              "Free recall                60221\n",
              "Lexical decision           27121\n",
              "Cued recall                27035\n",
              "Single recognition         26888\n",
              "Associative recognition    26842\n",
              "Name: count, dtype: int64"
            ]
          },
          "execution_count": 13,
          "metadata": {},
          "output_type": "execute_result"
        }
      ],
      "source": [
        "data['condition'].value_counts()"
      ]
    },
    {
      "cell_type": "markdown",
      "metadata": {
        "id": "7K0w11zyUhLl"
      },
      "source": [
        "### condition column has what we are looking for - memory task\n",
        "\n",
        "I will focus on this column"
      ]
    },
    {
      "cell_type": "markdown",
      "metadata": {
        "id": "5Jbe8v73UxHV"
      },
      "source": [
        "- Free recall\n",
        "- Lexical decision\n",
        "- Cued recall\n",
        "- Single-item recognition (mapped as \"Single recognition\")\n",
        "- Associative recognition"
      ]
    },
    {
      "cell_type": "code",
      "execution_count": 14,
      "metadata": {
        "id": "Nr-pOGZLUAJ5"
      },
      "outputs": [],
      "source": [
        "tasks = ['Free recall', 'Lexical decision', 'Cued recall', 'Single recognition', 'Associative recognition']\n"
      ]
    },
    {
      "cell_type": "markdown",
      "metadata": {
        "id": "XWQR_LuRVL3s"
      },
      "source": [
        "split data acc to diff tasks"
      ]
    },
    {
      "cell_type": "code",
      "execution_count": 15,
      "metadata": {
        "id": "rQ5s_4R-U6Hg"
      },
      "outputs": [],
      "source": [
        "task_data = {task: data[data['condition'] == task] for task in tasks}"
      ]
    },
    {
      "cell_type": "code",
      "execution_count": 19,
      "metadata": {
        "colab": {
          "base_uri": "https://localhost:8080/"
        },
        "id": "XkXSm8x-VCbM",
        "outputId": "ce46fdbe-a446-400b-b60a-8b8f390dc073"
      },
      "outputs": [
        {
          "name": "stdout",
          "output_type": "stream",
          "text": [
            "\n",
            "--- Free recall Task ---\n",
            "Rows: 60221\n",
            "Missing values:\n",
            "Unnamed: 0                        0\n",
            "subject                           0\n",
            "block                             0\n",
            "phase                             0\n",
            "condition                         0\n",
            "trial                             0\n",
            "stim.num.left                     0\n",
            "stim.num.right                    0\n",
            "stim.string.left              60221\n",
            "stim.string.right             60221\n",
            "stim.distractor                   0\n",
            "studied                           0\n",
            "freq.left                         0\n",
            "cv.left                           0\n",
            "old.left                          0\n",
            "freq.right                        0\n",
            "cv.right                          0\n",
            "old.right                         0\n",
            "rt                            50157\n",
            "distractor.resp                   0\n",
            "resp                              0\n",
            "resp.string                     292\n",
            "resp.type                         0\n",
            "resp.type.rescore              1626\n",
            "study.pos.left                    0\n",
            "study.pos.right                   0\n",
            "kf.left                           0\n",
            "kf.right                          0\n",
            "resp.string.corr                458\n",
            "study.partner.left.num        60221\n",
            "study.partner.right.num       60221\n",
            "study.partner.left.string     60221\n",
            "study.partner.right.string    60221\n",
            "resp.num                       2610\n",
            "study.partner.resp.num         5777\n",
            "study.partner.resp.string      5777\n",
            "recall.type                   50376\n",
            "recall.list                   50376\n",
            "condition.block                   0\n",
            "dtype: int64\n",
            "\n",
            "--- Lexical decision Task ---\n",
            "Rows: 27121\n",
            "Missing values:\n",
            "Unnamed: 0                        0\n",
            "subject                           0\n",
            "block                             0\n",
            "phase                             0\n",
            "condition                         0\n",
            "trial                             0\n",
            "stim.num.left                     0\n",
            "stim.num.right                    0\n",
            "stim.string.left                  0\n",
            "stim.string.right             27121\n",
            "stim.distractor                   0\n",
            "studied                           0\n",
            "freq.left                         0\n",
            "cv.left                           0\n",
            "old.left                          0\n",
            "freq.right                        0\n",
            "cv.right                          0\n",
            "old.right                         0\n",
            "rt                                0\n",
            "distractor.resp                   0\n",
            "resp                              0\n",
            "resp.string                   27121\n",
            "resp.type                         0\n",
            "resp.type.rescore             27121\n",
            "study.pos.left                    0\n",
            "study.pos.right                   0\n",
            "kf.left                           0\n",
            "kf.right                          0\n",
            "resp.string.corr              23360\n",
            "study.partner.left.num        27121\n",
            "study.partner.right.num       27121\n",
            "study.partner.left.string     27121\n",
            "study.partner.right.string    27121\n",
            "resp.num                      27121\n",
            "study.partner.resp.num        27121\n",
            "study.partner.resp.string     27121\n",
            "recall.type                   27121\n",
            "recall.list                   27121\n",
            "condition.block                   0\n",
            "dtype: int64\n",
            "\n",
            "--- Cued recall Task ---\n",
            "Rows: 27035\n",
            "Missing values:\n",
            "Unnamed: 0                        0\n",
            "subject                           0\n",
            "block                             0\n",
            "phase                             0\n",
            "condition                         0\n",
            "trial                             0\n",
            "stim.num.left                     0\n",
            "stim.num.right                    0\n",
            "stim.string.left                  0\n",
            "stim.string.right             27035\n",
            "stim.distractor                   0\n",
            "studied                           0\n",
            "freq.left                         0\n",
            "cv.left                           0\n",
            "old.left                          0\n",
            "freq.right                        0\n",
            "cv.right                          0\n",
            "old.right                         0\n",
            "rt                                0\n",
            "distractor.resp                   0\n",
            "resp                              0\n",
            "resp.string                   16163\n",
            "resp.type                         0\n",
            "resp.type.rescore                 1\n",
            "study.pos.left                    0\n",
            "study.pos.right                   0\n",
            "kf.left                           0\n",
            "kf.right                          0\n",
            "resp.string.corr              23380\n",
            "study.partner.left.num            0\n",
            "study.partner.right.num       27035\n",
            "study.partner.left.string         0\n",
            "study.partner.right.string    27035\n",
            "resp.num                      20925\n",
            "study.partner.resp.num        21364\n",
            "study.partner.resp.string     21364\n",
            "recall.type                   16541\n",
            "recall.list                   16541\n",
            "condition.block                   0\n",
            "dtype: int64\n",
            "\n",
            "--- Single recognition Task ---\n",
            "Rows: 26888\n",
            "Missing values:\n",
            "Unnamed: 0                        0\n",
            "subject                           0\n",
            "block                             0\n",
            "phase                             0\n",
            "condition                         0\n",
            "trial                             0\n",
            "stim.num.left                     0\n",
            "stim.num.right                    0\n",
            "stim.string.left                  0\n",
            "stim.string.right             26888\n",
            "stim.distractor                   0\n",
            "studied                           0\n",
            "freq.left                         0\n",
            "cv.left                           0\n",
            "old.left                          0\n",
            "freq.right                        0\n",
            "cv.right                          0\n",
            "old.right                         0\n",
            "rt                                0\n",
            "distractor.resp                   0\n",
            "resp                              0\n",
            "resp.string                   26888\n",
            "resp.type                         0\n",
            "resp.type.rescore             26888\n",
            "study.pos.left                    0\n",
            "study.pos.right                   0\n",
            "kf.left                           0\n",
            "kf.right                          0\n",
            "resp.string.corr              23380\n",
            "study.partner.left.num        13443\n",
            "study.partner.right.num       26888\n",
            "study.partner.left.string     13443\n",
            "study.partner.right.string    26888\n",
            "resp.num                      26888\n",
            "study.partner.resp.num        26888\n",
            "study.partner.resp.string     26888\n",
            "recall.type                   26888\n",
            "recall.list                   26888\n",
            "condition.block                   0\n",
            "dtype: int64\n",
            "\n",
            "--- Associative recognition Task ---\n",
            "Rows: 26842\n",
            "Missing values:\n",
            "Unnamed: 0                        0\n",
            "subject                           0\n",
            "block                             0\n",
            "phase                             0\n",
            "condition                         0\n",
            "trial                             0\n",
            "stim.num.left                     0\n",
            "stim.num.right                    0\n",
            "stim.string.left                  0\n",
            "stim.string.right                 0\n",
            "stim.distractor                   0\n",
            "studied                           0\n",
            "freq.left                         0\n",
            "cv.left                           0\n",
            "old.left                          0\n",
            "freq.right                        0\n",
            "cv.right                          0\n",
            "old.right                         0\n",
            "rt                                0\n",
            "distractor.resp                   0\n",
            "resp                              0\n",
            "resp.string                   26842\n",
            "resp.type                         0\n",
            "resp.type.rescore             26842\n",
            "study.pos.left                    0\n",
            "study.pos.right                   0\n",
            "kf.left                           0\n",
            "kf.right                          0\n",
            "resp.string.corr              23302\n",
            "study.partner.left.num            0\n",
            "study.partner.right.num           0\n",
            "study.partner.left.string         0\n",
            "study.partner.right.string        0\n",
            "resp.num                      26842\n",
            "study.partner.resp.num        26842\n",
            "study.partner.resp.string     26842\n",
            "recall.type                   26842\n",
            "recall.list                   26842\n",
            "condition.block                   0\n",
            "dtype: int64\n"
          ]
        }
      ],
      "source": [
        "for task, df in task_data.items():\n",
        "    print(f\"\\n--- {task} Task ---\")\n",
        "    print(f\"Rows: {df.shape[0]}\")\n",
        "    print(f\"Missing values:\\n{df.isnull().sum()}\")"
      ]
    },
    {
      "cell_type": "markdown",
      "metadata": {
        "id": "jT8ZScapV5VS"
      },
      "source": [
        "I should focus on identifying relevant columns regarding each task."
      ]
    },
    {
      "cell_type": "code",
      "execution_count": 21,
      "metadata": {
        "id": "bzBFdVfTW0tp"
      },
      "outputs": [],
      "source": [
        "cleaned_tasks = {}"
      ]
    },
    {
      "cell_type": "markdown",
      "metadata": {
        "id": "0vEakstbWB6w"
      },
      "source": [
        "1. --- Free recall Task ---\n",
        "Rows: 60221\n",
        "- Focus: resp.string, trial, subject\n"
      ]
    },
    {
      "cell_type": "code",
      "execution_count": 26,
      "metadata": {
        "colab": {
          "base_uri": "https://localhost:8080/"
        },
        "id": "a-XL6jIxVTOI",
        "outputId": "d551ec50-002d-4637-922a-cce8a41c74ca"
      },
      "outputs": [
        {
          "data": {
            "text/plain": [
              "array(['senate', 'fiexd', 'fixed', ..., 'MINDS', 'ENORMOUS', 'ROUTE'],\n",
              "      dtype=object)"
            ]
          },
          "execution_count": 26,
          "metadata": {},
          "output_type": "execute_result"
        }
      ],
      "source": [
        "cleaned_tasks['Free recall'] = task_data['Free recall'][['subject', 'trial', 'resp.string']].dropna()\n",
        "cleaned_tasks['Free recall']['resp.string'].unique()"
      ]
    },
    {
      "cell_type": "code",
      "execution_count": 28,
      "metadata": {
        "colab": {
          "base_uri": "https://localhost:8080/"
        },
        "id": "2CXa1adHW3TY",
        "outputId": "1f59341c-6399-41cb-b9a8-bd36c701e3b3"
      },
      "outputs": [
        {
          "data": {
            "text/plain": [
              "array([  1,   2,   3,   4,   5,   6,   7,   8,   9,  10,  11,  12,  13,\n",
              "        14,  15,  16,  17,  18,  19,  20,  21,  22,  23,  24,  25,  26,\n",
              "        27,  28,  29,  30,  31,  32,  33,  34,  35,  36,  37,  38,  39,\n",
              "        40,  41,  43,  44,  45,  46,  48,  49,  50,  51,  52,  53,  54,\n",
              "        55,  56,  57,  58,  59,  60,  61,  62,  63,  64,  65,  66,  67,\n",
              "        68,  69,  70,  71,  72,  73,  74,  75,  76,  77,  78,  79,  80,\n",
              "        81,  83,  84,  85,  42,  47,  86,  87,  88,  89,  90,  91,  92,\n",
              "        93,  94,  95,  96,  97,  98,  99, 100, 101, 102, 103, 104, 105,\n",
              "       106, 107, 108, 109, 110, 111, 112, 113, 114, 115, 116, 117, 118,\n",
              "       119, 120, 121, 122, 123, 124, 125,  82])"
            ]
          },
          "execution_count": 28,
          "metadata": {},
          "output_type": "execute_result"
        }
      ],
      "source": [
        "cleaned_tasks['Free recall']['trial'].unique()"
      ]
    },
    {
      "cell_type": "code",
      "execution_count": 29,
      "metadata": {
        "colab": {
          "base_uri": "https://localhost:8080/"
        },
        "id": "OvpnnOtKXr97",
        "outputId": "ce955e0a-924a-4e29-ef1b-2938f7228b88"
      },
      "outputs": [
        {
          "data": {
            "text/plain": [
              "array([  2,   3,   4,   5,   6,   7,   8,   9,  14,  15,  16,  17,  18,\n",
              "        19,  20,  22,  24,  25,  26,  27,  28,  29,  30,  31,  33,  34,\n",
              "        35,  36,  37,  38,  39,  40,  41,  42,  44,  45,  46,  47,  48,\n",
              "        50,  51,  52,  53,  54,  55,  56,  57,  58,  59,  60,  61,  62,\n",
              "        63,  65,  66,  67,  68,  69,  70,  71,  72,  73,  74,  75,  76,\n",
              "        77,  78,  79,  80,  81,  84,  86,  87,  88,  89,  90,  91,  92,\n",
              "        94,  95,  96,  97,  98,  99, 100, 101, 102, 103, 104, 106, 107,\n",
              "       108, 109, 110, 111, 113, 114, 115, 117, 119, 120, 121, 122, 125,\n",
              "       128, 129, 130, 132, 135, 136, 137, 138, 139, 141, 142, 143, 144,\n",
              "       145, 146, 147, 148, 149, 150, 151, 152, 153, 154, 155, 156, 157,\n",
              "       158, 160, 161, 162, 163, 164, 165, 166, 167, 168, 169, 171, 172,\n",
              "       173, 174, 175, 176, 177, 178, 180, 181, 182, 183, 184, 185, 186,\n",
              "       187, 188, 189, 192, 193, 194, 195, 196, 197, 198, 199, 200, 201,\n",
              "       202, 203, 204, 206, 207, 208, 209, 210, 211, 212, 213, 214, 215,\n",
              "       218, 219, 220, 221, 222, 223, 224, 225, 226, 228, 229, 230, 231,\n",
              "       233, 234, 235, 237, 239, 241, 242, 244, 245, 246, 247, 248, 249,\n",
              "       251, 252, 253, 254, 256, 257, 259, 260, 261, 262, 263, 264, 265,\n",
              "       266, 267, 268, 269, 271, 272, 274, 275, 277, 278, 280, 281, 282,\n",
              "       283, 285, 286, 287, 288, 289, 290, 291, 292, 293, 294, 295, 296,\n",
              "       297, 298, 299, 300, 301, 302, 303, 304, 305, 306, 307, 309, 310,\n",
              "       311, 312, 313, 314, 315, 316, 318, 319, 320, 321, 322, 323, 324,\n",
              "       325, 326, 327, 328, 329, 330, 331, 332, 333, 334, 336, 337, 339,\n",
              "       340, 341, 343, 344, 345, 346, 348, 349, 350, 351, 352, 353, 354,\n",
              "       355, 356, 357, 359, 360, 361, 362, 363, 364, 365, 367, 368, 369,\n",
              "       370, 371, 372, 373, 375, 376, 377, 380, 381, 382, 383, 384, 385,\n",
              "       386, 387, 388, 389, 379, 391, 392, 393, 395, 396, 397, 398, 400,\n",
              "       390, 402, 403, 404, 405, 406, 407, 410, 401, 412, 413, 414, 416,\n",
              "       411, 417, 418, 420, 422, 423, 424, 425, 426, 427, 429, 430, 431,\n",
              "       432, 433, 434, 435, 436, 437, 439, 440, 441, 443, 444, 445, 446,\n",
              "       447, 448, 449, 450, 451, 452, 453, 454, 456, 457, 458, 459, 460,\n",
              "         1,  10,  11,  12,  13,  21,  23,  32,  43,  49,  64,  82,  83,\n",
              "        85,  93, 105, 112, 116, 118, 123, 124, 126, 127, 131, 133, 134,\n",
              "       140, 159, 170, 179, 190, 191, 205, 216, 217, 227, 232, 236, 238,\n",
              "       240, 243, 250, 255, 258, 270, 273, 276, 279, 284, 308, 317, 335,\n",
              "       338, 342, 347, 358, 366, 374, 378, 394, 399, 408, 409, 415, 419,\n",
              "       421, 428, 438, 442, 455, 461, 462])"
            ]
          },
          "execution_count": 29,
          "metadata": {},
          "output_type": "execute_result"
        }
      ],
      "source": [
        "cleaned_tasks['Free recall']['subject'].unique()"
      ]
    },
    {
      "cell_type": "markdown",
      "metadata": {
        "id": "uX2qn8EAX6rt"
      },
      "source": [
        "2. Lexical Decision - classify the stimulus\n",
        "- subject - identification for participation\n",
        "- stim.string.left - word to do classification on\n",
        "- resp - decision\n",
        "- rt - response time"
      ]
    },
    {
      "cell_type": "code",
      "execution_count": 31,
      "metadata": {
        "colab": {
          "base_uri": "https://localhost:8080/"
        },
        "id": "zpB6jze-XzE7",
        "outputId": "f871dd7a-1e3c-453c-e85a-3e0beaae34fd"
      },
      "outputs": [
        {
          "data": {
            "text/plain": [
              "array(['APARTMENT', 'RASSING', 'CONWRESHLY', ..., 'ORGANISM', 'COLUMN',\n",
              "       'COAT'], dtype=object)"
            ]
          },
          "execution_count": 31,
          "metadata": {},
          "output_type": "execute_result"
        }
      ],
      "source": [
        "cleaned_tasks['Lexical decision'] = task_data['Lexical decision'][['subject', 'stim.string.left', 'resp', 'rt']].dropna()\n",
        "cleaned_tasks['Lexical decision']['stim.string.left'].unique()"
      ]
    },
    {
      "cell_type": "code",
      "execution_count": 32,
      "metadata": {
        "colab": {
          "base_uri": "https://localhost:8080/"
        },
        "id": "riScWv8XYeY_",
        "outputId": "a60753a6-b240-408b-e344-41f79a1c1f98"
      },
      "outputs": [
        {
          "data": {
            "text/plain": [
              "array([1, 0])"
            ]
          },
          "execution_count": 32,
          "metadata": {},
          "output_type": "execute_result"
        }
      ],
      "source": [
        "cleaned_tasks['Lexical decision']['resp'].unique()"
      ]
    },
    {
      "cell_type": "code",
      "execution_count": 34,
      "metadata": {
        "colab": {
          "base_uri": "https://localhost:8080/"
        },
        "id": "hdSfd8ozYnvh",
        "outputId": "1b8c214d-67b9-4145-ad16-ae92119c6ece"
      },
      "outputs": [
        {
          "data": {
            "text/plain": [
              "array([0.94, 1.77, 2.51, 0.58, 1.57])"
            ]
          },
          "execution_count": 34,
          "metadata": {},
          "output_type": "execute_result"
        }
      ],
      "source": [
        "cleaned_tasks['Lexical decision']['rt'].unique()[:5]"
      ]
    },
    {
      "cell_type": "markdown",
      "metadata": {
        "id": "o0fIgc0_YzmC"
      },
      "source": [
        "I dont think response time will be useful for llm work"
      ]
    },
    {
      "cell_type": "markdown",
      "metadata": {
        "id": "TAOkmPlmY5bn"
      },
      "source": [
        "3. Cued Recall - gien one word recall the pair word\n",
        "\n",
        "- subject - id\n",
        "- trial\n",
        "- stim.string.left - cue word\n",
        "- resp.string - participant response"
      ]
    },
    {
      "cell_type": "code",
      "execution_count": 36,
      "metadata": {
        "colab": {
          "base_uri": "https://localhost:8080/"
        },
        "id": "Pi9Jx3q9YurH",
        "outputId": "bef4ad5d-65af-49ff-8cf0-84f110b387e4"
      },
      "outputs": [
        {
          "data": {
            "text/plain": [
              "array(['SERIOUSLY', 'PARTIES', 'REACHES', 'SAVED', 'CONNECTED', 'MISTAKE',\n",
              "       'SISTERS', 'MUD', 'TOPIC', 'SCREEN', 'BAG', 'INTERNAL', 'ACID',\n",
              "       'LIBRARY', 'WINDS', 'EXPENSIVE', 'ROPE', 'AGES', 'GUIDE', 'BITS'],\n",
              "      dtype=object)"
            ]
          },
          "execution_count": 36,
          "metadata": {},
          "output_type": "execute_result"
        }
      ],
      "source": [
        "cleaned_tasks['Cued recall'] = task_data['Cued recall'][['subject', 'trial', 'stim.string.left', 'resp.string']].dropna()\n",
        "cleaned_tasks['Cued recall']['stim.string.left'].unique()[:20]"
      ]
    },
    {
      "cell_type": "code",
      "execution_count": 37,
      "metadata": {
        "colab": {
          "base_uri": "https://localhost:8080/"
        },
        "id": "Veemq-QDZckD",
        "outputId": "493a1c3b-db5d-42e8-9614-5bf265a95391"
      },
      "outputs": [
        {
          "data": {
            "text/plain": [
              "array(['tough', 'bedroom', 'continue', 'location', 'recieved', 'latin',\n",
              "       'door', 'choice', 'motor', 'man', 'outer', 'rain', 'support',\n",
              "       'golden', 'writers', 'tissue', 'consent', 'degree',\n",
              "       'relationships', 'procedure'], dtype=object)"
            ]
          },
          "execution_count": 37,
          "metadata": {},
          "output_type": "execute_result"
        }
      ],
      "source": [
        "cleaned_tasks['Cued recall']['resp.string'].unique()[:20]"
      ]
    },
    {
      "cell_type": "markdown",
      "metadata": {
        "id": "n3KfbWyTZnCB"
      },
      "source": [
        "4. Single Recognition - check if a single word is part of a studied list\n",
        "\n",
        "- subject - id\n",
        "- stim.string.left - recognition word\n",
        "- resp - decision"
      ]
    },
    {
      "cell_type": "code",
      "execution_count": 38,
      "metadata": {
        "id": "9WtWJq_YZki1"
      },
      "outputs": [],
      "source": [
        "cleaned_tasks['Single recognition'] = task_data['Single recognition'][['subject', 'stim.string.left', 'resp']].dropna()"
      ]
    },
    {
      "cell_type": "code",
      "execution_count": 40,
      "metadata": {
        "colab": {
          "base_uri": "https://localhost:8080/"
        },
        "id": "e3JF16sdaAq2",
        "outputId": "8c6ca1f4-c9f4-4db0-b258-4b5df49cfe5a"
      },
      "outputs": [
        {
          "data": {
            "text/plain": [
              "array(['PROVE', 'MARKS', 'OUTPUT', 'FILE', 'PRINT', 'SIZES', 'TUBE',\n",
              "       'FEARED', 'POLLUTION', 'DESIGN', 'OPPORTUNITIES', 'ESCAPE',\n",
              "       'STRING', 'STANDS', 'HAT', 'SLIPPED', 'OCCUPIED', 'HARMFUL',\n",
              "       'SPLIT', 'SPOKEN'], dtype=object)"
            ]
          },
          "execution_count": 40,
          "metadata": {},
          "output_type": "execute_result"
        }
      ],
      "source": [
        "cleaned_tasks['Single recognition']['stim.string.left'].unique()[:20]"
      ]
    },
    {
      "cell_type": "code",
      "execution_count": 41,
      "metadata": {
        "colab": {
          "base_uri": "https://localhost:8080/"
        },
        "id": "C15jcd2iaGG6",
        "outputId": "4ae2890b-a2ff-4af9-aae6-e8d5ecddcd25"
      },
      "outputs": [
        {
          "data": {
            "text/plain": [
              "array([0, 1])"
            ]
          },
          "execution_count": 41,
          "metadata": {},
          "output_type": "execute_result"
        }
      ],
      "source": [
        "cleaned_tasks['Single recognition']['resp'].unique()[:20]"
      ]
    },
    {
      "cell_type": "markdown",
      "metadata": {
        "id": "e4ROBnC3aNnh"
      },
      "source": [
        "5. Associative Recognition - check if pair of words shown in study phase\n",
        "\n",
        "- subject - id\n",
        "- stim.string.left - 1st word of pair\n",
        "- stim.string.right - 2nd word of pair\n",
        "- resp - decision"
      ]
    },
    {
      "cell_type": "code",
      "execution_count": 42,
      "metadata": {
        "id": "CSPVGlEgaLMI"
      },
      "outputs": [],
      "source": [
        "cleaned_tasks['Associative recognition'] = task_data['Associative recognition'][['subject', 'stim.string.left', 'stim.string.right', 'resp']].dropna()\n"
      ]
    },
    {
      "cell_type": "code",
      "execution_count": 43,
      "metadata": {
        "colab": {
          "base_uri": "https://localhost:8080/"
        },
        "id": "jqtvgSQjasDO",
        "outputId": "7c9b573a-0e48-4a01-bacf-612ec31864ec"
      },
      "outputs": [
        {
          "data": {
            "text/plain": [
              "array(['CLAIM', 'SHARPLY', 'FORMER', 'CONTROLS', 'TRACK', 'PROFIT',\n",
              "       'LEATHER', 'INSTRUCTIONS', 'WINGS', 'SENTENCES', 'SHARED', 'FIRMS',\n",
              "       'EFFICIENT', 'CAMP', 'BLACKS', 'MARRIAGE', 'EXTERNAL', 'PROPOSED',\n",
              "       'NEWSPAPERS', 'SHINING'], dtype=object)"
            ]
          },
          "execution_count": 43,
          "metadata": {},
          "output_type": "execute_result"
        }
      ],
      "source": [
        "cleaned_tasks['Associative recognition']['stim.string.left'].unique()[:20]"
      ]
    },
    {
      "cell_type": "code",
      "execution_count": 44,
      "metadata": {
        "colab": {
          "base_uri": "https://localhost:8080/"
        },
        "id": "eYw9RCxNatjb",
        "outputId": "85ddc01b-842c-49ab-8c01-6075855a2209"
      },
      "outputs": [
        {
          "data": {
            "text/plain": [
              "array(['SCATTERED', 'STRESS', 'VOLUME', 'REMAINING', 'APPARENTLY',\n",
              "       'TIGHT', 'POURED', 'READER', 'DESIRE', 'RESULTING', 'CASH',\n",
              "       'AGENCY', 'WRAPPED', 'CHARACTERISTIC', 'PULLING', 'RUBBER',\n",
              "       'PUBLISHED', 'WARS', 'ATTEMPTS', 'MAGIC'], dtype=object)"
            ]
          },
          "execution_count": 44,
          "metadata": {},
          "output_type": "execute_result"
        }
      ],
      "source": [
        "cleaned_tasks['Associative recognition']['stim.string.right'].unique()[:20]"
      ]
    },
    {
      "cell_type": "code",
      "execution_count": 45,
      "metadata": {
        "colab": {
          "base_uri": "https://localhost:8080/"
        },
        "id": "PEuDi4tWav_3",
        "outputId": "324a785a-bccf-4871-e3ba-1e97370dd8e3"
      },
      "outputs": [
        {
          "data": {
            "text/plain": [
              "array([1, 0])"
            ]
          },
          "execution_count": 45,
          "metadata": {},
          "output_type": "execute_result"
        }
      ],
      "source": [
        "cleaned_tasks['Associative recognition']['resp'].unique()[:20]"
      ]
    },
    {
      "cell_type": "code",
      "execution_count": 46,
      "metadata": {
        "colab": {
          "base_uri": "https://localhost:8080/"
        },
        "id": "lvN4msmray6V",
        "outputId": "d45e459d-3689-4b38-ef40-038f961e0c8a"
      },
      "outputs": [
        {
          "name": "stdout",
          "output_type": "stream",
          "text": [
            "Free recall: (59929, 3)\n",
            "Lexical decision: (27121, 4)\n",
            "Cued recall: (10872, 4)\n",
            "Single recognition: (26888, 3)\n",
            "Associative recognition: (26842, 4)\n"
          ]
        }
      ],
      "source": [
        "for task, df in cleaned_tasks.items():\n",
        "    print(f\"{task}: {df.shape}\")"
      ]
    },
    {
      "cell_type": "markdown",
      "metadata": {},
      "source": [
        "### I GOT THIS MEMORY DETAILS AND PROCEDURE FROM - `Design and Procedure Page no 14 onward` "
      ]
    }
  ],
  "metadata": {
    "colab": {
      "provenance": []
    },
    "kernelspec": {
      "display_name": "Python 3",
      "name": "python3"
    },
    "language_info": {
      "name": "python"
    }
  },
  "nbformat": 4,
  "nbformat_minor": 0
}
